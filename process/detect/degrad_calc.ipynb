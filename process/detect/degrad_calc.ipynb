{
 "cells": [
  {
   "cell_type": "code",
   "execution_count": 1,
   "metadata": {},
   "outputs": [],
   "source": [
    "import pandas as pd\n",
    "import numpy as np\n",
    "import os\n",
    "import matplotlib.pyplot as plt\n",
    "from sklearn.linear_model import LinearRegression"
   ]
  },
  {
   "cell_type": "code",
   "execution_count": 2,
   "metadata": {},
   "outputs": [],
   "source": [
    "\n",
    "def transform_rad(data):\n",
    "    # # data is one column of dataframe, such as df[column1]\n",
    "    data = np.log1p(data)  # log1p handles zero values\n",
    "    data = np.power(data, 6)\n",
    "    return data\n",
    "\n",
    "def transform_intensity(data):\n",
    "    data = data\n",
    "    return data"
   ]
  },
  {
   "cell_type": "code",
   "execution_count": 3,
   "metadata": {},
   "outputs": [],
   "source": [
    "def head_tail_filter(df):\n",
    "    # there are two columns a and b in the df\n",
    "    # retain rows between the 0.1*max(a) and 0.9*max(a)\n",
    "    # retain rows between the 0.1*max(b) and 0.9*max(b)\n",
    "    # return the filtered df\n",
    "    max_a = df.iloc[:,0].max()\n",
    "    max_b = df.iloc[:,1].max()\n",
    "    df = df[(df.iloc[:,0] > 0) & (df.iloc[:,0] <= 0.98*max_a)]\n",
    "    df = df[(df.iloc[:,1] > 0) & (df.iloc[:,1] <= 0.98*max_b)]\n",
    "    return df"
   ]
  },
  {
   "cell_type": "code",
   "execution_count": 4,
   "metadata": {},
   "outputs": [],
   "source": [
    "def linear_fit(rad_current_df):\n",
    "    # if df is empty, return 0\n",
    "    if rad_current_df.empty:\n",
    "        return 0\n",
    "    # print(rad_current_df.columns)\n",
    "    # Fit linear regression model\n",
    "    X = transform_rad(rad_current_df.iloc[:, 0].values.reshape(-1, 1))  # First column as X\n",
    "    y = transform_intensity(rad_current_df.iloc[:, 1].values.reshape(-1, 1))  # Second column as y\n",
    "    \n",
    "    model = LinearRegression()\n",
    "    model.fit(X, y)\n",
    "    \n",
    "    # Return slope (a) from y = ax + b\n",
    "    return model.coef_[0][0]"
   ]
  },
  {
   "cell_type": "code",
   "execution_count": 5,
   "metadata": {},
   "outputs": [],
   "source": [
    "def calc_degradation_score(set):\n",
    "    # if one of the number is 0 or smaller than 0, return 0\n",
    "    if any(x <= 0 for x in set):\n",
    "        return 0\n",
    "    if set[-1] > set[0]:\n",
    "        return 0\n",
    "    if (set[0] - set[-1]) / set[0] >=0.5:\n",
    "        return 0\n",
    "    else:\n",
    "        return (set[0] - set[-1]) / set[0]"
   ]
  },
  {
   "cell_type": "code",
   "execution_count": 6,
   "metadata": {},
   "outputs": [],
   "source": [
    "\n",
    "folder_path = \"2023_2024_csv_data\"\n",
    "env_file_name = \"env.csv\"\n",
    "rad_variable = 'irradiance0'\n",
    "start_hour = 9\n",
    "end_hour = 15\n",
    "\n",
    "\n",
    "months = [1,2,3]\n",
    "years = [2023, 2024, 2025]\n",
    "\n",
    "env_df = pd.read_csv(os.path.join(folder_path, env_file_name))\n",
    "env_df['avg'] = (env_df[\"irradiance0\"] + env_df[\"irradiance1\"]) / 2\n",
    "\n",
    "result = []\n",
    "for file in os.listdir(folder_path):\n",
    "    if '-' in file and '038' in file:\n",
    "        df = pd.read_csv(os.path.join(folder_path, file))\n",
    "        df = df.merge(env_df, on='time', how='left')\n",
    "        df = df.fillna(0)\n",
    "\n",
    "        df['year'] = pd.to_datetime(df['time']).dt.year\n",
    "        df['month'] = pd.to_datetime(df['time']).dt.month\n",
    "        df['hour'] = pd.to_datetime(df['time']).dt.hour\n",
    "        df = df[(df['hour'] >= start_hour) & (df['hour'] <= end_hour)]\n",
    "        intensity_cols = [col for col in df.columns if 'intensity' in col.lower()]\n",
    "        for col in intensity_cols:\n",
    "            degrad_set = []\n",
    "            for month in months:\n",
    "                df_month = df[df['month'] == month]\n",
    "                degradation_curve = []\n",
    "                for year in years:\n",
    "                    df_year = df_month[df_month['year'] == year]\n",
    "                    new_df = df_year[[rad_variable, col]]\n",
    "                    new_df =  head_tail_filter(new_df)\n",
    "                    degrad_val = linear_fit(new_df)\n",
    "                    degradation_curve.append(degrad_val)\n",
    "                score = calc_degradation_score(degradation_curve)\n",
    "                degrad_set.append(score)\n",
    "            \n",
    "            id = col.replace('-intensity', '')\n",
    "            result.append({'pid': id, 'score': sum(degrad_set)})\n",
    "\n",
    "result = pd.DataFrame(result)\n",
    "result.to_csv('result.csv', index=False)\n",
    "\n",
    "\n"
   ]
  },
  {
   "cell_type": "code",
   "execution_count": 7,
   "metadata": {},
   "outputs": [],
   "source": [
    "result = pd.read_csv('result.csv')\n",
    "all_pids = pd.read_csv('all_pids.csv')\n",
    "report = pd.read_csv('report_merged.csv')"
   ]
  },
  {
   "cell_type": "code",
   "execution_count": 8,
   "metadata": {},
   "outputs": [
    {
     "name": "stdout",
     "output_type": "stream",
     "text": [
      "11\n"
     ]
    }
   ],
   "source": [
    "# remove rows in result where pid is not in all_pids\n",
    "result = result[result['pid'].isin(all_pids['pid'])]\n",
    "\n",
    "# sort result based on score from high to low\n",
    "result = result.sort_values(by='score', ascending=False)\n",
    "\n",
    "# merge result with report\n",
    "result = pd.merge(result, report, on='pid', how='left')\n",
    "\n",
    "# print the overall number of rows in the first 20 rows whose flag is not NaN\n",
    "aligned_result = result[:20]\n",
    "\n",
    "aligned_result.to_csv('aligned_result.csv', index=False)\n",
    "\n",
    "# filter result based on flag which is not NaN\n",
    "aligned_result = aligned_result[aligned_result['flag'].notna()]\n",
    "\n",
    "# print the number of rows in aligned_result\n",
    "print(len(aligned_result))\n",
    "\n",
    "\n",
    "\n",
    "\n",
    "\n"
   ]
  },
  {
   "cell_type": "code",
   "execution_count": 9,
   "metadata": {},
   "outputs": [],
   "source": [
    "# irradiance0 10-16 5 (13)\n",
    "# irradiance0 10-16 6 (14)\n",
    "# irradiance0 9-17 5 (14)\n",
    "# avg         9-16 6 (14)\n",
    "# irradiance0 9-16 5 (15)\n",
    "# irradiance0 9-16 6 (15)\n",
    "# irradiance0 9-16 6 (15) 0.95\n",
    "# irradiance0 9-16 6 (16) 0.98\n"
   ]
  }
 ],
 "metadata": {
  "kernelspec": {
   "display_name": "GIS",
   "language": "python",
   "name": "python3"
  },
  "language_info": {
   "codemirror_mode": {
    "name": "ipython",
    "version": 3
   },
   "file_extension": ".py",
   "mimetype": "text/x-python",
   "name": "python",
   "nbconvert_exporter": "python",
   "pygments_lexer": "ipython3",
   "version": "3.11.8"
  }
 },
 "nbformat": 4,
 "nbformat_minor": 2
}
